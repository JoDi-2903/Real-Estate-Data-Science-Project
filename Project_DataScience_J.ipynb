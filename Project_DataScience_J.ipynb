{
 "cells": [
  {
   "cell_type": "markdown",
   "metadata": {},
   "source": [
    "# Real Estate Data Science Project\n",
    "\n",
    "Bearbeitet von: 2341463 und 1269263"
   ]
  },
  {
   "cell_type": "markdown",
   "metadata": {},
   "source": [
    "## 1. Business Understanding (3 Punkte)\n",
    "\n",
    "**Aufgabenstellung**: _Formulieren Sie ein Ziel oder mehrere\n",
    "Ziele nach dem CRISP-DM Prozess, die für Immobilienspekulant*innen sinnvoll sind.\n",
    "Bei Spekulationen werden typischerweise Immobilien erstanden, die wieder mit\n",
    "Gewinn abgestoßen werden. Beginnen Sie mit der Idee „Wir brauchen mehr\n",
    "Verständnis des Verkaufspreises (Z_Verkaufspreis)!“. Geben Sie Ihre Ziele in\n",
    "Ihrem Jupyter-Notebook als Markup an (max. ½ Seite). Wichtig ist hier, eigene zu\n",
    "untersuchende Hypothesen aufzustellen, die dann in Aufgabenteil 2 untersucht\n",
    "werden. Nutzen Sie auch die vorhandenen Daten, um die Hypothesen zu ergänzen\n",
    "oder anzupassen, wenn notwendig._"
   ]
  },
  {
   "cell_type": "markdown",
   "metadata": {},
   "source": [
    "\n",
    "### Ziele der Immobilienspekulant*innen\n",
    "Als Immobilienspekulant*innen bezeichnet man Personen, die eine Vielzahl von Immobilien erwerben und darauf hoffen, dass der Preis der Immobilien in Zukunft steigen wird. Die Häuser oder Wohnungen können dann mit Gewinn verkauft werden. Für die Kaufentscheidung und die einfache Bewertung der Attraktivität einer Immobilie, stehen für diese Personengruppe folgende Ziele und Anforderungen im Vordergrund:\n",
    "1. Mehr Verständnis für den Verkaufspreis (Z_Verkaufspreis) schaffen\n",
    "2. Auswirkungen der einzelnen Parameter auf den Verkaufspreis untersuchen\n",
    "3. Identifikation von Attributen, die sich kaum oder gar nicht auf den Verkaufspreis auswirken\n",
    "4. Klassifikation der Attraktivität der Angebote anhand des angebotenen Verkaufspreises in die drei Kategorien \"gut\", \"neutral\" und \"schlecht\"\n",
    "\n",
    "### Ziele des Business Understanding (Geschäftsverständnis)\n",
    "- Was sind die Ziele auf Geschäftsebene?\n",
    "- Welche Anforderungen an das Ergebnis gibt es?\n",
    "- Welche offenen Fragen sollen beantwortet werden?\n",
    "- Wie könnten beispielhafte Antworten oder Ergebnisse aussehen?\n",
    "\n",
    "Ein Haupziel auf dem Bereich der Geschäftsebene ist es, den Entscheidungsprozess für die Bewertung und den Kauf von Immobilien zu unterstützen. Durch die Anlyse der Daten sollen Vorhersagen zur Attraktivität der Angebote und die Auswirkungen der einzelnen Attribute (Parameter) auf den veranschlagten Preis bestimmt werden. Das Ergebnis sollte auch für nicht DataScience-kundige Anwender*innen verständlich und aussagekräftig gestaltet sein. Die zu beantortenden Fragen wurden als Ziele für die Untersuchung definiert (siehe vorherigen Abschnitt). Die Ergebnisse lassen sich in zwei Bereiche einteilen: \n",
    "* Für Angebote mit vorgegebenen (bekannten) Verkaufspreis soll eine automatische Klassifikation in die drei Gruppen \"gutes Angebot\", \"neutral\" und \"schlechtes Angebot\" erfolgen, damit die Immobilienspekulierenden eine vorab Einschätzung und eine damit verbundene Zeit- und Aufwandseinsparung erhalten. \n",
    "* Für Angebote mit unbekanntem Verkaufspreis soll anhand der Immobilien-Attribute eine Einschätzung und Vorhersage des Preises erfolgen."
   ]
  },
  {
   "cell_type": "code",
   "execution_count": null,
   "metadata": {},
   "outputs": [],
   "source": []
  }
 ],
 "metadata": {
  "kernelspec": {
   "display_name": "Python 3.10.1 64-bit",
   "language": "python",
   "name": "python3"
  },
  "language_info": {
   "name": "python",
   "version": "3.10.1"
  },
  "orig_nbformat": 4,
  "vscode": {
   "interpreter": {
    "hash": "c5252f41cda903ea636bae5f212409c6b52ab532911ebf5c960538b6c783ba1c"
   }
  }
 },
 "nbformat": 4,
 "nbformat_minor": 2
}
